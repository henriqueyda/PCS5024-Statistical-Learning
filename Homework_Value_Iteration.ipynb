{
 "cells": [
  {
   "cell_type": "markdown",
   "metadata": {},
   "source": [
    "# Homework 5: Value Iteration\n",
    "## Name: Henrique Yda Yamamoto  NUSP: 9349502"
   ]
  },
  {
   "cell_type": "markdown",
   "metadata": {},
   "source": [
    "# Value Iteration implementation"
   ]
  },
  {
   "attachments": {},
   "cell_type": "markdown",
   "metadata": {},
   "source": [
    "![my_image](images\\value_iteration_diagram.png) "
   ]
  },
  {
   "attachments": {},
   "cell_type": "markdown",
   "metadata": {},
   "source": [
    "![my_image](images\\value_iteration_equation.png) "
   ]
  },
  {
   "cell_type": "code",
   "execution_count": 1,
   "metadata": {},
   "outputs": [],
   "source": [
    "import numpy as np\n",
    "import matplotlib.pyplot as plt"
   ]
  },
  {
   "cell_type": "code",
   "execution_count": 2,
   "metadata": {},
   "outputs": [],
   "source": [
    "#V values\n",
    "V = {}\n",
    "V[\"s1\"] = np.zeros((21))\n",
    "V[\"s2\"] = np.zeros((21))\n",
    "\n",
    "#Rewards\n",
    "r = np.array([3,-1])\n",
    "\n",
    "#Gamma\n",
    "gamma = 0.5\n",
    "\n",
    "#Probabilities\n",
    "p = {}\n",
    "p[\"s1_red\"] = np.array([0.5,0.5])\n",
    "p[\"s1_green\"] = np.array([1])\n",
    "p[\"s2_red\"] = np.array([1])\n",
    "p[\"s2_green\"] = np.array([1])"
   ]
  },
  {
   "cell_type": "code",
   "execution_count": 3,
   "metadata": {},
   "outputs": [],
   "source": [
    "for i in range(0,20):\n",
    "    V[\"s1\"][i+1] = r[0] + gamma*max(p[\"s1_red\"][0]*V[\"s1\"][i]+p[\"s1_red\"][1]*V[\"s2\"][i],p[\"s1_green\"]*V[\"s2\"][i])\n",
    "    V[\"s2\"][i+1] = r[1] + gamma*max(p[\"s2_red\"][0]*V[\"s2\"][i],p[\"s2_green\"]*V[\"s1\"][i])"
   ]
  },
  {
   "cell_type": "code",
   "execution_count": 4,
   "metadata": {},
   "outputs": [
    {
     "name": "stdout",
     "output_type": "stream",
     "text": [
      "Values V(s) for each state in 20 iterations:\n",
      "\n",
      "{'s1': array([0.    , 3.    , 3.5   , 4.    , 4.1875, 4.2969, 4.3477, 4.374 ,\n",
      "       4.387 , 4.3935, 4.3967, 4.3984, 4.3992, 4.3996, 4.3998, 4.3999,\n",
      "       4.3999, 4.4   , 4.4   , 4.4   , 4.4   ]),\n",
      " 's2': array([ 0.    , -1.    ,  0.5   ,  0.75  ,  1.    ,  1.0938,  1.1484,\n",
      "        1.1738,  1.187 ,  1.1935,  1.1967,  1.1984,  1.1992,  1.1996,\n",
      "        1.1998,  1.1999,  1.1999,  1.2   ,  1.2   ,  1.2   ,  1.2   ])}\n"
     ]
    }
   ],
   "source": [
    "import pprint\n",
    "np.set_printoptions(precision=4)\n",
    "print(\"Values V(s) for each state in 20 iterations:\\n\")\n",
    "pprint.pprint(V)"
   ]
  }
 ],
 "metadata": {
  "kernelspec": {
   "display_name": "Python 3",
   "language": "python",
   "name": "python3"
  },
  "language_info": {
   "codemirror_mode": {
    "name": "ipython",
    "version": 3
   },
   "file_extension": ".py",
   "mimetype": "text/x-python",
   "name": "python",
   "nbconvert_exporter": "python",
   "pygments_lexer": "ipython3",
   "version": "3.7.6"
  }
 },
 "nbformat": 4,
 "nbformat_minor": 4
}
