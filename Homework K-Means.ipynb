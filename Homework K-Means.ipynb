{
 "cells": [
  {
   "cell_type": "markdown",
   "metadata": {},
   "source": [
    "# Homework 4 - KMeans\n",
    "## Name: Henrique Yda Yamamoto  NUSP: 9349502"
   ]
  },
  {
   "cell_type": "markdown",
   "metadata": {},
   "source": [
    "## Manual implementation of K-Means"
   ]
  },
  {
   "cell_type": "code",
   "execution_count": 1,
   "metadata": {},
   "outputs": [],
   "source": [
    "import numpy as np\n",
    "import matplotlib.pyplot as plt"
   ]
  },
  {
   "cell_type": "markdown",
   "metadata": {},
   "source": [
    "Data Points "
   ]
  },
  {
   "cell_type": "code",
   "execution_count": 2,
   "metadata": {},
   "outputs": [],
   "source": [
    "X = [[5.9,3.2],\n",
    "     [4.6,2.9],\n",
    "     [6.2,2.8],\n",
    "     [4.7,3.2],\n",
    "     [5.5,4.2],\n",
    "     [5,3],\n",
    "     [4.9,3.1],\n",
    "     [6.7,3.1],\n",
    "     [5.1,3.8],\n",
    "     [6,3]]\n",
    "X = np.array(X)"
   ]
  },
  {
   "cell_type": "code",
   "execution_count": 3,
   "metadata": {
    "scrolled": true
   },
   "outputs": [
    {
     "data": {
      "image/png": "[encoded data removed]",
      "text/plain": [
       "<Figure size 432x288 with 1 Axes>"
      ]
     },
     "metadata": {
      "needs_background": "light"
     },
     "output_type": "display_data"
    }
   ],
   "source": [
    "plt.plot(X[:,0],X[:,1],'o')\n",
    "plt.show()"
   ]
  },
  {
   "cell_type": "markdown",
   "metadata": {},
   "source": [
    "Initial centroids"
   ]
  },
  {
   "cell_type": "code",
   "execution_count": 4,
   "metadata": {},
   "outputs": [],
   "source": [
    "centroids = {}\n",
    "centroids[\"red\"] = np.zeros((20,2))\n",
    "centroids[\"green\"] = np.zeros((20,2))\n",
    "centroids[\"blue\"] = np.zeros((20,2))\n",
    "\n",
    "centroids[\"red\"][0] = np.array([6.2,3.2])\n",
    "centroids[\"green\"][0] = np.array([6.6,3.7])\n",
    "centroids[\"blue\"][0] = np.array([6.5,3.0])"
   ]
  },
  {
   "cell_type": "markdown",
   "metadata": {},
   "source": [
    "K-Means Algorithm for 3 labels"
   ]
  },
  {
   "cell_type": "code",
   "execution_count": 5,
   "metadata": {
    "scrolled": false
   },
   "outputs": [
    {
     "name": "stdout",
     "output_type": "stream",
     "text": [
      "Iteration # 1\n",
      "\n",
      "Distances:\n",
      "{'blue': array([0.63, 1.9 , 0.36, 1.81, 1.56, 1.5 , 1.6 , 0.22, 1.61, 0.5 ]),\n",
      " 'green': array([0.86, 2.15, 0.98, 1.96, 1.21, 1.75, 1.8 , 0.61, 1.5 , 0.92]),\n",
      " 'red': array([0.3 , 1.63, 0.4 , 1.5 , 1.22, 1.22, 1.3 , 0.51, 1.25, 0.28])}\n",
      "\n",
      "Assigned to: ['Red', 'Red', 'Blue', 'Red', 'Green', 'Red', 'Red', 'Blue', 'Red', 'Red']\n",
      "\n",
      " New Centroids:\n",
      "Red:\n",
      "array([5.17, 3.17])\n",
      "\n",
      "Green:\n",
      "array([5.5, 4.2])\n",
      "\n",
      "Blue:\n",
      "array([6.45, 2.95])\n",
      "\n",
      "\n",
      "Iteration # 2\n",
      "\n",
      "Distances:\n",
      "{'blue': array([0.6 , 1.85, 0.29, 1.77, 1.57, 1.45, 1.56, 0.29, 1.6 , 0.45]),\n",
      " 'green': array([1.08, 1.58, 1.57, 1.28, 0.  , 1.3 , 1.25, 1.63, 0.57, 1.3 ]),\n",
      " 'red': array([0.73, 0.63, 1.09, 0.47, 1.08, 0.24, 0.28, 1.53, 0.63, 0.85])}\n",
      "\n",
      "Assigned to: ['Blue', 'Red', 'Blue', 'Red', 'Green', 'Red', 'Red', 'Blue', 'Green', 'Blue']\n",
      "\n",
      " New Centroids:\n",
      "Red:\n",
      "array([4.8 , 3.05])\n",
      "\n",
      "Green:\n",
      "array([5.3, 4. ])\n",
      "\n",
      "Blue:\n",
      "array([6.2 , 3.02])\n",
      "\n",
      "\n",
      "Iteration # 3\n",
      "\n",
      "Distances:\n",
      "{'blue': array([0.35, 1.6 , 0.23, 1.51, 1.37, 1.2 , 1.3 , 0.51, 1.35, 0.2 ]),\n",
      " 'green': array([1.  , 1.3 , 1.5 , 1.  , 0.28, 1.04, 0.98, 1.66, 0.28, 1.22]),\n",
      " 'red': array([1.11, 0.25, 1.42, 0.18, 1.35, 0.21, 0.11, 1.9 , 0.81, 1.2 ])}\n",
      "\n",
      "Assigned to: ['Blue', 'Red', 'Blue', 'Red', 'Green', 'Red', 'Red', 'Blue', 'Green', 'Blue']\n",
      "\n",
      " New Centroids:\n",
      "Red:\n",
      "array([4.8 , 3.05])\n",
      "\n",
      "Green:\n",
      "array([5.3, 4. ])\n",
      "\n",
      "Blue:\n",
      "array([6.2 , 3.02])\n",
      "\n",
      "\n",
      "Iteration # 4\n",
      "\n",
      "Distances:\n",
      "{'blue': array([0.35, 1.6 , 0.23, 1.51, 1.37, 1.2 , 1.3 , 0.51, 1.35, 0.2 ]),\n",
      " 'green': array([1.  , 1.3 , 1.5 , 1.  , 0.28, 1.04, 0.98, 1.66, 0.28, 1.22]),\n",
      " 'red': array([1.11, 0.25, 1.42, 0.18, 1.35, 0.21, 0.11, 1.9 , 0.81, 1.2 ])}\n",
      "\n",
      "Assigned to: ['Blue', 'Red', 'Blue', 'Red', 'Green', 'Red', 'Red', 'Blue', 'Green', 'Blue']\n",
      "\n",
      " New Centroids:\n",
      "Red:\n",
      "array([4.8 , 3.05])\n",
      "\n",
      "Green:\n",
      "array([5.3, 4. ])\n",
      "\n",
      "Blue:\n",
      "array([6.2 , 3.02])\n",
      "\n",
      "\n",
      "Iteration # 5\n",
      "\n",
      "Distances:\n",
      "{'blue': array([0.35, 1.6 , 0.23, 1.51, 1.37, 1.2 , 1.3 , 0.51, 1.35, 0.2 ]),\n",
      " 'green': array([1.  , 1.3 , 1.5 , 1.  , 0.28, 1.04, 0.98, 1.66, 0.28, 1.22]),\n",
      " 'red': array([1.11, 0.25, 1.42, 0.18, 1.35, 0.21, 0.11, 1.9 , 0.81, 1.2 ])}\n",
      "\n",
      "Assigned to: ['Blue', 'Red', 'Blue', 'Red', 'Green', 'Red', 'Red', 'Blue', 'Green', 'Blue']\n",
      "\n",
      " New Centroids:\n",
      "Red:\n",
      "array([4.8 , 3.05])\n",
      "\n",
      "Green:\n",
      "array([5.3, 4. ])\n",
      "\n",
      "Blue:\n",
      "array([6.2 , 3.02])\n",
      "\n",
      "\n"
     ]
    }
   ],
   "source": [
    "import pprint\n",
    "\n",
    "distances = {}\n",
    "np.set_printoptions(precision=2)\n",
    "\n",
    "for n in range(0,5):\n",
    "    distances[\"red\"] = np.zeros((10))\n",
    "    distances[\"green\"] = np.zeros((10))\n",
    "    distances[\"blue\"] = np.zeros((10))\n",
    "\n",
    "    centroid_red_x = []\n",
    "    centroid_red_y = []\n",
    "    centroid_green_x = []\n",
    "    centroid_green_y = []\n",
    "    centroid_blue_x = []\n",
    "    centroid_blue_y = []\n",
    "    minimum = []\n",
    "\n",
    "    for i in range(0,len(X)):\n",
    "\n",
    "        distances[\"red\"][i]= np.sqrt((X[i][0] - centroids[\"red\"][n][0])**2 + (X[i][1] - centroids[\"red\"][n][1])**2)\n",
    "        distances[\"green\"][i]= np.sqrt((X[i][0] - centroids[\"green\"][n][0])**2 + (X[i][1] - centroids[\"green\"][n][1])**2)\n",
    "        distances[\"blue\"][i]= np.sqrt((X[i][0] - centroids[\"blue\"][n][0])**2 + (X[i][1] - centroids[\"blue\"][n][1])**2)\n",
    "\n",
    "        if min(distances[\"red\"][i], distances[\"green\"][i], distances[\"blue\"][i]) == distances[\"red\"][i]:\n",
    "            centroid_red_x.append(X[i][0])\n",
    "            centroid_red_y.append(X[i][1])\n",
    "            minimum.append(\"Red\")\n",
    "\n",
    "        if min(distances[\"red\"][i], distances[\"green\"][i], distances[\"blue\"][i]) == distances[\"green\"][i]:\n",
    "            centroid_green_x.append(X[i][0])\n",
    "            centroid_green_y.append(X[i][1])\n",
    "            minimum.append(\"Green\")\n",
    "\n",
    "        if min(distances[\"red\"][i], distances[\"green\"][i], distances[\"blue\"][i]) == distances[\"blue\"][i]:\n",
    "            centroid_blue_x.append(X[i][0])\n",
    "            centroid_blue_y.append(X[i][1])\n",
    "            minimum.append(\"Blue\")\n",
    "    \n",
    "    centroids[\"red\"][n+1] = np.array([sum(centroid_red_x)/len(centroid_red_x),sum(centroid_red_y)/len(centroid_red_y)])\n",
    "    centroids[\"green\"][n+1] = np.array([sum(centroid_green_x)/len(centroid_green_x),sum(centroid_green_y)/len(centroid_green_y)])\n",
    "    centroids[\"blue\"][n+1] = np.array([sum(centroid_blue_x)/len(centroid_blue_x),sum(centroid_blue_y)/len(centroid_blue_y)])\n",
    "    \n",
    "    #Prints\n",
    "    \n",
    "    print(\"Iteration #\",n+1)\n",
    "    print(\"\\nDistances:\")\n",
    "    pprint.pprint(distances)\n",
    "    print(\"\\nAssigned to:\", minimum)\n",
    "    print(\"\\n New Centroids:\")\n",
    "    print(\"Red:\")\n",
    "    pprint.pprint(centroids[\"red\"][n+1])\n",
    "    print(\"\\nGreen:\")\n",
    "    pprint.pprint(centroids[\"green\"][n+1])\n",
    "    print(\"\\nBlue:\")\n",
    "    pprint.pprint(centroids[\"blue\"][n+1])\n",
    "    print(\"\\n\")"
   ]
  }
 ],
 "metadata": {
  "kernelspec": {
   "display_name": "Python 3",
   "language": "python",
   "name": "python3"
  },
  "language_info": {
   "codemirror_mode": {
    "name": "ipython",
    "version": 3
   },
   "file_extension": ".py",
   "mimetype": "text/x-python",
   "name": "python",
   "nbconvert_exporter": "python",
   "pygments_lexer": "ipython3",
   "version": "3.7.6"
  }
 },
 "nbformat": 4,
 "nbformat_minor": 4
}
